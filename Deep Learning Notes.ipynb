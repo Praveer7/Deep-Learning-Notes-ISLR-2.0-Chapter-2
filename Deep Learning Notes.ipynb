{
 "cells": [
  {
   "cell_type": "markdown",
   "metadata": {},
   "source": [
    "# DEEP LEARNING NOTES\n",
    "\n",
    "\n",
    "### Chapter-10: ISLR (2nd Edition)"
   ]
  },
  {
   "cell_type": "markdown",
   "metadata": {},
   "source": [
    "- The cornerstone of **Deep Learning** is the `neural network`.\n",
    "\n",
    "\n",
    "- Initially, neuaral networks rose to fame in 1980s. But other algorithms like SVMs, boosting, and random forests outperformed Neural Networks.\n",
    "\n",
    "\n",
    "- After 2010, Neural Networks again resurfaced with the new name: `Deep Learning`"
   ]
  },
  {
   "cell_type": "markdown",
   "metadata": {},
   "source": [
    "# Single Layer Neural Networks"
   ]
  },
  {
   "cell_type": "markdown",
   "metadata": {},
   "source": [
    "#### Main Function of a Neural Network\n",
    "\n",
    "- A neural network takes an input vector of $p$ variables\n",
    "\n",
    "$X = (X_1, X_2, X_3, ......, X_p)$\n",
    "\n",
    "and builds a nonlinear function $f(X)$ to predict the response $Y$."
   ]
  },
  {
   "cell_type": "markdown",
   "metadata": {},
   "source": []
  },
  {
   "cell_type": "markdown",
   "metadata": {},
   "source": []
  },
  {
   "cell_type": "markdown",
   "metadata": {},
   "source": []
  }
 ],
 "metadata": {
  "kernelspec": {
   "display_name": "Python 3",
   "language": "python",
   "name": "python3"
  },
  "language_info": {
   "codemirror_mode": {
    "name": "ipython",
    "version": 3
   },
   "file_extension": ".py",
   "mimetype": "text/x-python",
   "name": "python",
   "nbconvert_exporter": "python",
   "pygments_lexer": "ipython3",
   "version": "3.8.3"
  }
 },
 "nbformat": 4,
 "nbformat_minor": 4
}
